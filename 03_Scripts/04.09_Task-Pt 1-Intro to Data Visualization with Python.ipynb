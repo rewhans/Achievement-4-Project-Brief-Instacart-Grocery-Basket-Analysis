{
 "cells": [
  {
   "cell_type": "markdown",
   "id": "a03c82a7-061b-4379-be76-c52b66fde318",
   "metadata": {},
   "source": [
    "# 4.9_Task_Intro to Data Visualization with Python_Part_1\n",
    "\n",
    "## Contents\n",
    "### Importing Libraries\n",
    "### Importing Data\n",
    "### Path to Storage\n",
    "### Part 1\n",
    "#### Task 1\n",
    "#### Task 2\n",
    "#### Task 3\n",
    "#### Task 4\n",
    "#### Task 5\n",
    "#### Task 6\n",
    "#### Task 7\n",
    "#### Task 8\n",
    "##### Exporting Data\n",
    "#### Task 9\n",
    "\n",
    "\n"
   ]
  },
  {
   "cell_type": "markdown",
   "id": "02564e1c-e214-41a5-ba22-5c35560592e4",
   "metadata": {},
   "source": [
    "### Importing Libraries"
   ]
  },
  {
   "cell_type": "code",
   "execution_count": 3,
   "id": "eb14c7ce-6cb1-43c5-ab35-4f841069b37c",
   "metadata": {},
   "outputs": [],
   "source": [
    "# Import libraries\n",
    "import pandas as pd\n",
    "import numpy as np\n",
    "import os\n",
    "import matplotlib.pyplot as plt\n",
    "import seaborn as sns\n",
    "import scipy"
   ]
  },
  {
   "cell_type": "markdown",
   "id": "8f08bfc3-6bc7-45d7-a29d-a90135fe96b5",
   "metadata": {},
   "source": [
    "### Path to Storage"
   ]
  },
  {
   "cell_type": "code",
   "execution_count": 4,
   "id": "a9e8f676-0222-465c-ab08-21a86b38cc9f",
   "metadata": {},
   "outputs": [],
   "source": [
    "# Path to storage location\n",
    "path = r'C:\\Users\\ihs10539\\Achievement 4 Project'"
   ]
  },
  {
   "cell_type": "markdown",
   "id": "991ec1a4-c697-42bf-9240-a17dc5f8387a",
   "metadata": {},
   "source": [
    "### Importing Data"
   ]
  },
  {
   "cell_type": "code",
   "execution_count": 5,
   "id": "395370eb-b0d5-4539-8577-8e0d0abc3a16",
   "metadata": {},
   "outputs": [],
   "source": [
    "# import new customer csv\n",
    "df_custs = pd.read_csv(os.path.join(path, '02_Data', '02.01_Original Data', 'customers.csv'))"
   ]
  },
  {
   "cell_type": "markdown",
   "id": "65b64aec-9d97-4c1a-a455-14f25d546ad3",
   "metadata": {},
   "source": [
    "## Part 1"
   ]
  },
  {
   "cell_type": "markdown",
   "id": "a5450723-dc6d-4d1c-834f-06f37bad75af",
   "metadata": {},
   "source": [
    "### Task 1"
   ]
  },
  {
   "cell_type": "code",
   "execution_count": 8,
   "id": "7940933b-9af4-4d87-a612-805004e3ccdb",
   "metadata": {},
   "outputs": [],
   "source": [
    "# Done"
   ]
  },
  {
   "cell_type": "markdown",
   "id": "c6d6af59-2e3d-479b-926c-e49263f4e7dc",
   "metadata": {},
   "source": [
    "### Task 2"
   ]
  },
  {
   "cell_type": "code",
   "execution_count": 10,
   "id": "d0481ff8-de92-4fcd-ab2e-65d390451e46",
   "metadata": {},
   "outputs": [],
   "source": [
    "# Done\n",
    "# Named: 4.9_Task_Intro to Data Visualization with Python_Part_1"
   ]
  },
  {
   "cell_type": "markdown",
   "id": "6a9160f1-4e91-4831-b315-ed39d72964ae",
   "metadata": {},
   "source": [
    "### Task 3"
   ]
  },
  {
   "cell_type": "code",
   "execution_count": 12,
   "id": "1ba77642-551f-4e2d-9aa6-7d6afb4bf613",
   "metadata": {},
   "outputs": [
    {
     "data": {
      "text/html": [
       "<div>\n",
       "<style scoped>\n",
       "    .dataframe tbody tr th:only-of-type {\n",
       "        vertical-align: middle;\n",
       "    }\n",
       "\n",
       "    .dataframe tbody tr th {\n",
       "        vertical-align: top;\n",
       "    }\n",
       "\n",
       "    .dataframe thead th {\n",
       "        text-align: right;\n",
       "    }\n",
       "</style>\n",
       "<table border=\"1\" class=\"dataframe\">\n",
       "  <thead>\n",
       "    <tr style=\"text-align: right;\">\n",
       "      <th></th>\n",
       "      <th>user_id</th>\n",
       "      <th>First Name</th>\n",
       "      <th>Surnam</th>\n",
       "      <th>Gender</th>\n",
       "      <th>STATE</th>\n",
       "      <th>Age</th>\n",
       "      <th>date_joined</th>\n",
       "      <th>n_dependants</th>\n",
       "      <th>fam_status</th>\n",
       "      <th>income</th>\n",
       "    </tr>\n",
       "  </thead>\n",
       "  <tbody>\n",
       "    <tr>\n",
       "      <th>0</th>\n",
       "      <td>26711</td>\n",
       "      <td>Deborah</td>\n",
       "      <td>Esquivel</td>\n",
       "      <td>Female</td>\n",
       "      <td>Missouri</td>\n",
       "      <td>48</td>\n",
       "      <td>1/1/2017</td>\n",
       "      <td>3</td>\n",
       "      <td>married</td>\n",
       "      <td>165665</td>\n",
       "    </tr>\n",
       "    <tr>\n",
       "      <th>1</th>\n",
       "      <td>33890</td>\n",
       "      <td>Patricia</td>\n",
       "      <td>Hart</td>\n",
       "      <td>Female</td>\n",
       "      <td>New Mexico</td>\n",
       "      <td>36</td>\n",
       "      <td>1/1/2017</td>\n",
       "      <td>0</td>\n",
       "      <td>single</td>\n",
       "      <td>59285</td>\n",
       "    </tr>\n",
       "    <tr>\n",
       "      <th>2</th>\n",
       "      <td>65803</td>\n",
       "      <td>Kenneth</td>\n",
       "      <td>Farley</td>\n",
       "      <td>Male</td>\n",
       "      <td>Idaho</td>\n",
       "      <td>35</td>\n",
       "      <td>1/1/2017</td>\n",
       "      <td>2</td>\n",
       "      <td>married</td>\n",
       "      <td>99568</td>\n",
       "    </tr>\n",
       "    <tr>\n",
       "      <th>3</th>\n",
       "      <td>125935</td>\n",
       "      <td>Michelle</td>\n",
       "      <td>Hicks</td>\n",
       "      <td>Female</td>\n",
       "      <td>Iowa</td>\n",
       "      <td>40</td>\n",
       "      <td>1/1/2017</td>\n",
       "      <td>0</td>\n",
       "      <td>single</td>\n",
       "      <td>42049</td>\n",
       "    </tr>\n",
       "    <tr>\n",
       "      <th>4</th>\n",
       "      <td>130797</td>\n",
       "      <td>Ann</td>\n",
       "      <td>Gilmore</td>\n",
       "      <td>Female</td>\n",
       "      <td>Maryland</td>\n",
       "      <td>26</td>\n",
       "      <td>1/1/2017</td>\n",
       "      <td>1</td>\n",
       "      <td>married</td>\n",
       "      <td>40374</td>\n",
       "    </tr>\n",
       "  </tbody>\n",
       "</table>\n",
       "</div>"
      ],
      "text/plain": [
       "   user_id First Name    Surnam  Gender       STATE  Age date_joined  \\\n",
       "0    26711    Deborah  Esquivel  Female    Missouri   48    1/1/2017   \n",
       "1    33890   Patricia      Hart  Female  New Mexico   36    1/1/2017   \n",
       "2    65803    Kenneth    Farley    Male       Idaho   35    1/1/2017   \n",
       "3   125935   Michelle     Hicks  Female        Iowa   40    1/1/2017   \n",
       "4   130797        Ann   Gilmore  Female    Maryland   26    1/1/2017   \n",
       "\n",
       "   n_dependants fam_status  income  \n",
       "0             3    married  165665  \n",
       "1             0     single   59285  \n",
       "2             2    married   99568  \n",
       "3             0     single   42049  \n",
       "4             1    married   40374  "
      ]
     },
     "execution_count": 12,
     "metadata": {},
     "output_type": "execute_result"
    }
   ],
   "source": [
    "# initial review of new data set\n",
    "df_custs.head()"
   ]
  },
  {
   "cell_type": "code",
   "execution_count": 13,
   "id": "1f27693c-3980-47f8-8b7f-8f851d2b4ea7",
   "metadata": {},
   "outputs": [
    {
     "data": {
      "text/plain": [
       "(206209, 10)"
      ]
     },
     "execution_count": 13,
     "metadata": {},
     "output_type": "execute_result"
    }
   ],
   "source": [
    "# checking shape\n",
    "df_custs.shape"
   ]
  },
  {
   "cell_type": "code",
   "execution_count": 14,
   "id": "5dc20599-0ebe-42c5-a84f-56ee7db4f86f",
   "metadata": {},
   "outputs": [
    {
     "name": "stdout",
     "output_type": "stream",
     "text": [
      "<class 'pandas.core.frame.DataFrame'>\n",
      "RangeIndex: 206209 entries, 0 to 206208\n",
      "Data columns (total 10 columns):\n",
      " #   Column        Non-Null Count   Dtype \n",
      "---  ------        --------------   ----- \n",
      " 0   user_id       206209 non-null  int64 \n",
      " 1   First Name    194950 non-null  object\n",
      " 2   Surnam        206209 non-null  object\n",
      " 3   Gender        206209 non-null  object\n",
      " 4   STATE         206209 non-null  object\n",
      " 5   Age           206209 non-null  int64 \n",
      " 6   date_joined   206209 non-null  object\n",
      " 7   n_dependants  206209 non-null  int64 \n",
      " 8   fam_status    206209 non-null  object\n",
      " 9   income        206209 non-null  int64 \n",
      "dtypes: int64(4), object(6)\n",
      "memory usage: 15.7+ MB\n"
     ]
    }
   ],
   "source": [
    "# collecting data types\n",
    "df_custs.info()"
   ]
  },
  {
   "cell_type": "code",
   "execution_count": 15,
   "id": "7f2ea5e1-47e6-46a0-93bc-e8112813592c",
   "metadata": {},
   "outputs": [
    {
     "data": {
      "text/html": [
       "<div>\n",
       "<style scoped>\n",
       "    .dataframe tbody tr th:only-of-type {\n",
       "        vertical-align: middle;\n",
       "    }\n",
       "\n",
       "    .dataframe tbody tr th {\n",
       "        vertical-align: top;\n",
       "    }\n",
       "\n",
       "    .dataframe thead th {\n",
       "        text-align: right;\n",
       "    }\n",
       "</style>\n",
       "<table border=\"1\" class=\"dataframe\">\n",
       "  <thead>\n",
       "    <tr style=\"text-align: right;\">\n",
       "      <th></th>\n",
       "      <th>user_id</th>\n",
       "      <th>Age</th>\n",
       "      <th>n_dependants</th>\n",
       "      <th>income</th>\n",
       "    </tr>\n",
       "  </thead>\n",
       "  <tbody>\n",
       "    <tr>\n",
       "      <th>count</th>\n",
       "      <td>206209.000000</td>\n",
       "      <td>206209.000000</td>\n",
       "      <td>206209.000000</td>\n",
       "      <td>206209.000000</td>\n",
       "    </tr>\n",
       "    <tr>\n",
       "      <th>mean</th>\n",
       "      <td>103105.000000</td>\n",
       "      <td>49.501646</td>\n",
       "      <td>1.499823</td>\n",
       "      <td>94632.852548</td>\n",
       "    </tr>\n",
       "    <tr>\n",
       "      <th>std</th>\n",
       "      <td>59527.555167</td>\n",
       "      <td>18.480962</td>\n",
       "      <td>1.118433</td>\n",
       "      <td>42473.786988</td>\n",
       "    </tr>\n",
       "    <tr>\n",
       "      <th>min</th>\n",
       "      <td>1.000000</td>\n",
       "      <td>18.000000</td>\n",
       "      <td>0.000000</td>\n",
       "      <td>25903.000000</td>\n",
       "    </tr>\n",
       "    <tr>\n",
       "      <th>25%</th>\n",
       "      <td>51553.000000</td>\n",
       "      <td>33.000000</td>\n",
       "      <td>0.000000</td>\n",
       "      <td>59874.000000</td>\n",
       "    </tr>\n",
       "    <tr>\n",
       "      <th>50%</th>\n",
       "      <td>103105.000000</td>\n",
       "      <td>49.000000</td>\n",
       "      <td>1.000000</td>\n",
       "      <td>93547.000000</td>\n",
       "    </tr>\n",
       "    <tr>\n",
       "      <th>75%</th>\n",
       "      <td>154657.000000</td>\n",
       "      <td>66.000000</td>\n",
       "      <td>3.000000</td>\n",
       "      <td>124244.000000</td>\n",
       "    </tr>\n",
       "    <tr>\n",
       "      <th>max</th>\n",
       "      <td>206209.000000</td>\n",
       "      <td>81.000000</td>\n",
       "      <td>3.000000</td>\n",
       "      <td>593901.000000</td>\n",
       "    </tr>\n",
       "  </tbody>\n",
       "</table>\n",
       "</div>"
      ],
      "text/plain": [
       "             user_id            Age   n_dependants         income\n",
       "count  206209.000000  206209.000000  206209.000000  206209.000000\n",
       "mean   103105.000000      49.501646       1.499823   94632.852548\n",
       "std     59527.555167      18.480962       1.118433   42473.786988\n",
       "min         1.000000      18.000000       0.000000   25903.000000\n",
       "25%     51553.000000      33.000000       0.000000   59874.000000\n",
       "50%    103105.000000      49.000000       1.000000   93547.000000\n",
       "75%    154657.000000      66.000000       3.000000  124244.000000\n",
       "max    206209.000000      81.000000       3.000000  593901.000000"
      ]
     },
     "execution_count": 15,
     "metadata": {},
     "output_type": "execute_result"
    }
   ],
   "source": [
    "# checking basic analysis via dexcribe\n",
    "df_custs.describe()"
   ]
  },
  {
   "cell_type": "markdown",
   "id": "c3a22ea5-7db7-4f78-baeb-3a4f4a791477",
   "metadata": {},
   "source": [
    "### Task 4"
   ]
  },
  {
   "cell_type": "code",
   "execution_count": 17,
   "id": "e21326a0-5641-4935-95bb-8a853b5fc653",
   "metadata": {},
   "outputs": [],
   "source": [
    "# Rename First Name as first_name\n",
    "df_custs.rename(columns = {'First Name' : 'first_name'}, inplace = True)"
   ]
  },
  {
   "cell_type": "code",
   "execution_count": 18,
   "id": "860be874-c558-4fd2-ac3f-8aa4f90165bc",
   "metadata": {},
   "outputs": [],
   "source": [
    "# Rename Surnam as last_name\n",
    "df_custs.rename(columns = {'Surnam' : 'last_name'}, inplace = True)"
   ]
  },
  {
   "cell_type": "code",
   "execution_count": 19,
   "id": "48b658ee-0951-48cd-a6fd-e47c5afdac50",
   "metadata": {},
   "outputs": [],
   "source": [
    "# Rename Gender as gender\n",
    "df_custs.rename(columns = {'Gender' : 'gender'}, inplace = True)"
   ]
  },
  {
   "cell_type": "code",
   "execution_count": 20,
   "id": "e324008e-843a-4695-9a6e-dc6c54e713d2",
   "metadata": {},
   "outputs": [],
   "source": [
    "# Rename STATE as state\n",
    "df_custs.rename(columns = {'STATE' : 'state'}, inplace = True)"
   ]
  },
  {
   "cell_type": "code",
   "execution_count": 21,
   "id": "6017de46-353a-4fc0-a116-f7b9a1255af7",
   "metadata": {},
   "outputs": [],
   "source": [
    "# Rename Age as age\n",
    "df_custs.rename(columns = {'Age' : 'age'}, inplace = True)"
   ]
  },
  {
   "cell_type": "code",
   "execution_count": 22,
   "id": "caf772da-6880-4d4b-a8a5-2abe0022afc2",
   "metadata": {},
   "outputs": [],
   "source": [
    "# Rename fam_status as marital_status\n",
    "df_custs.rename(columns = {'fam_status' : 'marital_status'}, inplace = True)"
   ]
  },
  {
   "cell_type": "code",
   "execution_count": 23,
   "id": "8d41e2cd-ed69-472b-9e2f-ddc2f71e4b85",
   "metadata": {},
   "outputs": [
    {
     "data": {
      "text/plain": [
       "Index(['user_id', 'first_name', 'last_name', 'gender', 'state', 'age',\n",
       "       'date_joined', 'n_dependants', 'marital_status', 'income'],\n",
       "      dtype='object')"
      ]
     },
     "execution_count": 23,
     "metadata": {},
     "output_type": "execute_result"
    }
   ],
   "source": [
    "# Checking\n",
    "df_custs.columns"
   ]
  },
  {
   "cell_type": "markdown",
   "id": "f231d8b1-6ac4-416d-b578-da6417dbb4c2",
   "metadata": {},
   "source": [
    "### Task 5"
   ]
  },
  {
   "cell_type": "code",
   "execution_count": 25,
   "id": "866e4b14-3f93-46de-83bb-1358ed8483b8",
   "metadata": {},
   "outputs": [
    {
     "data": {
      "text/plain": [
       "user_id               0\n",
       "first_name        11259\n",
       "last_name             0\n",
       "gender                0\n",
       "state                 0\n",
       "age                   0\n",
       "date_joined           0\n",
       "n_dependants          0\n",
       "marital_status        0\n",
       "income                0\n",
       "dtype: int64"
      ]
     },
     "execution_count": 25,
     "metadata": {},
     "output_type": "execute_result"
    }
   ],
   "source": [
    "# Checking missing values\n",
    "df_custs.isnull().sum()"
   ]
  },
  {
   "cell_type": "markdown",
   "id": "cd95447a-1056-4bf9-9961-5ececb658b7a",
   "metadata": {},
   "source": [
    "All the missing values are in the first_name column but since it isn't vital for analysis it can be ignored."
   ]
  },
  {
   "cell_type": "code",
   "execution_count": 27,
   "id": "d1e2b267-8b9e-4cec-8b06-01b0c2519bc9",
   "metadata": {},
   "outputs": [],
   "source": [
    "# Checking duplicates\n",
    "df_custs_dups = df_custs[df_custs.duplicated()]"
   ]
  },
  {
   "cell_type": "code",
   "execution_count": 28,
   "id": "7e1b110d-9238-4a4c-a4c0-7afdd9d46b95",
   "metadata": {},
   "outputs": [
    {
     "data": {
      "text/html": [
       "<div>\n",
       "<style scoped>\n",
       "    .dataframe tbody tr th:only-of-type {\n",
       "        vertical-align: middle;\n",
       "    }\n",
       "\n",
       "    .dataframe tbody tr th {\n",
       "        vertical-align: top;\n",
       "    }\n",
       "\n",
       "    .dataframe thead th {\n",
       "        text-align: right;\n",
       "    }\n",
       "</style>\n",
       "<table border=\"1\" class=\"dataframe\">\n",
       "  <thead>\n",
       "    <tr style=\"text-align: right;\">\n",
       "      <th></th>\n",
       "      <th>user_id</th>\n",
       "      <th>first_name</th>\n",
       "      <th>last_name</th>\n",
       "      <th>gender</th>\n",
       "      <th>state</th>\n",
       "      <th>age</th>\n",
       "      <th>date_joined</th>\n",
       "      <th>n_dependants</th>\n",
       "      <th>marital_status</th>\n",
       "      <th>income</th>\n",
       "    </tr>\n",
       "  </thead>\n",
       "  <tbody>\n",
       "  </tbody>\n",
       "</table>\n",
       "</div>"
      ],
      "text/plain": [
       "Empty DataFrame\n",
       "Columns: [user_id, first_name, last_name, gender, state, age, date_joined, n_dependants, marital_status, income]\n",
       "Index: []"
      ]
     },
     "execution_count": 28,
     "metadata": {},
     "output_type": "execute_result"
    }
   ],
   "source": [
    "df_custs_dups"
   ]
  },
  {
   "cell_type": "markdown",
   "id": "482f6c47-0165-4e5c-9bb7-7524e73a3d36",
   "metadata": {},
   "source": [
    "No duplicates"
   ]
  },
  {
   "cell_type": "code",
   "execution_count": 30,
   "id": "4256bed2-6440-40d4-bc96-8017f6455387",
   "metadata": {},
   "outputs": [
    {
     "data": {
      "text/plain": [
       "user_id            int64\n",
       "first_name        object\n",
       "last_name         object\n",
       "gender            object\n",
       "state             object\n",
       "age                int64\n",
       "date_joined       object\n",
       "n_dependants       int64\n",
       "marital_status    object\n",
       "income             int64\n",
       "dtype: object"
      ]
     },
     "execution_count": 30,
     "metadata": {},
     "output_type": "execute_result"
    }
   ],
   "source": [
    "# Checking mixed-type\n",
    "df_custs.dtypes"
   ]
  },
  {
   "cell_type": "code",
   "execution_count": 31,
   "id": "f7df23dc-5ad7-429d-8c95-615ea32424b6",
   "metadata": {},
   "outputs": [
    {
     "name": "stdout",
     "output_type": "stream",
     "text": [
      "first_name\n"
     ]
    }
   ],
   "source": [
    "for col in df_custs.columns.tolist():\n",
    "  mixed = (df_custs[[col]].map(type) != df_custs[[col]].iloc[0].apply(type)).any(axis = 1)\n",
    "  if len (df_custs[mixed]) > 0:\n",
    "    print (col)"
   ]
  },
  {
   "cell_type": "markdown",
   "id": "69ca82d2-d7a3-43f2-818c-8cab5b25c65d",
   "metadata": {},
   "source": [
    "first_name has mixed data that needs to be addressed."
   ]
  },
  {
   "cell_type": "code",
   "execution_count": 33,
   "id": "d3b4ce80-15d9-40a7-ba03-b882a0d4ce87",
   "metadata": {},
   "outputs": [],
   "source": [
    "# address string data type to first name\n",
    "df_custs['first_name'] = df_custs['first_name'].astype('str')"
   ]
  },
  {
   "cell_type": "code",
   "execution_count": 34,
   "id": "8d862147-5f00-459c-86a3-d90c79990288",
   "metadata": {},
   "outputs": [
    {
     "data": {
      "text/plain": [
       "user_id            int64\n",
       "first_name        object\n",
       "last_name         object\n",
       "gender            object\n",
       "state             object\n",
       "age                int64\n",
       "date_joined       object\n",
       "n_dependants       int64\n",
       "marital_status    object\n",
       "income             int64\n",
       "dtype: object"
      ]
     },
     "execution_count": 34,
     "metadata": {},
     "output_type": "execute_result"
    }
   ],
   "source": [
    "# Let's check again the data type\n",
    "df_custs.dtypes"
   ]
  },
  {
   "cell_type": "code",
   "execution_count": 35,
   "id": "c64838e8-5567-49aa-b1b8-140c575ec5b1",
   "metadata": {},
   "outputs": [],
   "source": [
    "# Let's check again the mixed data-type\n",
    "for col in df_custs.columns.tolist():\n",
    "  mixed = (df_custs[[col]].map(type) != df_custs[[col]].iloc[0].apply(type)).any(axis = 1)\n",
    "  if len (df_custs[mixed]) > 0:\n",
    "    print (col)"
   ]
  },
  {
   "cell_type": "markdown",
   "id": "3ae5fe5e-9798-4d58-9ee2-907ced2f5c78",
   "metadata": {},
   "source": [
    "There is no longer mixed data so should be good to proceed. "
   ]
  },
  {
   "cell_type": "markdown",
   "id": "6da38743-6743-4fd6-b016-36562e876baa",
   "metadata": {},
   "source": [
    "### Task 6"
   ]
  },
  {
   "cell_type": "code",
   "execution_count": 38,
   "id": "8291f720-1e20-476b-bb55-e1bf1f815991",
   "metadata": {},
   "outputs": [],
   "source": [
    "# import most recent version of orders_products dataframe\n",
    "df_ords_prods_custs_merge = pd.read_pickle(os.path.join(path, '02_Data', '02.02_Prepared Data', '4.9_orders_products_visualized.pkl'))"
   ]
  },
  {
   "cell_type": "code",
   "execution_count": 39,
   "id": "7bc1e8be-2fb8-441e-bc88-c4f406eed30e",
   "metadata": {},
   "outputs": [
    {
     "data": {
      "text/plain": [
       "Unnamed: 0_x                        int64\n",
       "order_id                            int64\n",
       "user_id                             int64\n",
       "eval_set                  string[pyarrow]\n",
       "order_number                        int64\n",
       "orders_day_of_week                  int64\n",
       "order_hour_of_day                   int64\n",
       "days_since_prior_order            float64\n",
       "product_id                          int64\n",
       "add_to_cart_order                   int64\n",
       "reordered                           int64\n",
       "_merge                           category\n",
       "Unnamed: 0.1                        int64\n",
       "Unnamed: 0_y                        int64\n",
       "product_name                       object\n",
       "aisle_id                            int64\n",
       "department_id                       int64\n",
       "prices                            float64\n",
       "match                            category\n",
       "busiest_day                        object\n",
       "busiest_days                       object\n",
       "busiest_period_of_day              object\n",
       "max_order                           int64\n",
       "loyalty_flag                       object\n",
       "average_spend                     float64\n",
       "spender_flag                       object\n",
       "customer_frequency                float64\n",
       "frequency_flag                     object\n",
       "dtype: object"
      ]
     },
     "execution_count": 39,
     "metadata": {},
     "output_type": "execute_result"
    }
   ],
   "source": [
    "# Checking data type\n",
    "df_ords_prods_custs_merge.dtypes"
   ]
  },
  {
   "cell_type": "markdown",
   "id": "624ebb80-8224-48d5-9275-19c95513ba4b",
   "metadata": {},
   "source": [
    "The key columns are user_id and both are the same data type"
   ]
  },
  {
   "cell_type": "code",
   "execution_count": 41,
   "id": "111af039-f088-4e84-88cc-760e89180098",
   "metadata": {},
   "outputs": [],
   "source": [
    "# Drop the '_merge' column from the previous exercise\n",
    "df_ords_prods_custs_merge = df_ords_prods_custs_merge.drop(columns=['_merge'])"
   ]
  },
  {
   "cell_type": "code",
   "execution_count": 42,
   "id": "4774fc5c-c8dc-4eb5-b6de-2818590b3e0c",
   "metadata": {},
   "outputs": [],
   "source": [
    "# Merge ords_prods_merge with customers data\n",
    "df_ords_prods_custs_merge = df_ords_prods_custs_merge.merge(df_custs, on = 'user_id', indicator = True)"
   ]
  },
  {
   "cell_type": "code",
   "execution_count": 43,
   "id": "30a1ff0a-7734-4ee0-8d91-f11a2e094270",
   "metadata": {},
   "outputs": [
    {
     "data": {
      "text/plain": [
       "(32399732, 37)"
      ]
     },
     "execution_count": 43,
     "metadata": {},
     "output_type": "execute_result"
    }
   ],
   "source": [
    "df_ords_prods_custs_merge.shape"
   ]
  },
  {
   "cell_type": "markdown",
   "id": "2a00b217-b76e-41fe-be0b-0a346173b9d7",
   "metadata": {},
   "source": [
    "### Task 7"
   ]
  },
  {
   "cell_type": "code",
   "execution_count": 45,
   "id": "25fb5ed4-1336-4b3a-b52b-cbe4c4015bb4",
   "metadata": {},
   "outputs": [],
   "source": [
    "# Done"
   ]
  },
  {
   "cell_type": "markdown",
   "id": "742aa6dc-0887-4054-8b99-39c2559f9db6",
   "metadata": {},
   "source": [
    "### Task 8"
   ]
  },
  {
   "cell_type": "markdown",
   "id": "b9c922af-674c-4e5e-ad04-95e06df5e31e",
   "metadata": {},
   "source": [
    "#### Exporting Data"
   ]
  },
  {
   "cell_type": "code",
   "execution_count": 48,
   "id": "706cfedc-dacf-45cc-8c9c-5f6a19026e90",
   "metadata": {},
   "outputs": [],
   "source": [
    "# Export the updated dataframe as a pickle file\n",
    "df_ords_prods_custs_merge.to_pickle(os.path.join(path, '02_Data','02.02_Prepared Data', '4.9_task_ords_prods_custs_merge.pkl'))"
   ]
  },
  {
   "cell_type": "markdown",
   "id": "7a2a5d06-0eb9-463e-835d-ee9145fb588e",
   "metadata": {},
   "source": [
    "### Task 9"
   ]
  },
  {
   "cell_type": "code",
   "execution_count": 50,
   "id": "f7bef96b-5267-42f3-8ae0-91cbe4f3558d",
   "metadata": {},
   "outputs": [],
   "source": [
    "# Done"
   ]
  },
  {
   "cell_type": "code",
   "execution_count": null,
   "id": "33da2c60-bbc2-469c-af5f-a06ee82bf90d",
   "metadata": {},
   "outputs": [],
   "source": []
  }
 ],
 "metadata": {
  "kernelspec": {
   "display_name": "Python [conda env:base] *",
   "language": "python",
   "name": "conda-base-py"
  },
  "language_info": {
   "codemirror_mode": {
    "name": "ipython",
    "version": 3
   },
   "file_extension": ".py",
   "mimetype": "text/x-python",
   "name": "python",
   "nbconvert_exporter": "python",
   "pygments_lexer": "ipython3",
   "version": "3.12.7"
  }
 },
 "nbformat": 4,
 "nbformat_minor": 5
}
