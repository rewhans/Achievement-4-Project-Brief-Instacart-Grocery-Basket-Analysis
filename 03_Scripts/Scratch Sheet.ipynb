{
 "cells": [
  {
   "cell_type": "code",
   "execution_count": 1,
   "id": "9e67ff29-cc8b-4223-8bea-44b2e5cd527f",
   "metadata": {},
   "outputs": [],
   "source": [
    "# import libraries\n",
    "import pandas as pd\n",
    "import numpy as np\n",
    "import os"
   ]
  },
  {
   "cell_type": "code",
   "execution_count": 5,
   "id": "f9b8a6b2-d1ad-4a9d-bcf3-1137e7b376cf",
   "metadata": {},
   "outputs": [],
   "source": [
    "# import products and orders csv\n",
    "df_prod = pd.read_csv(r'C:\\Users\\ihs10539\\Achievement 4 Project\\02_Data\\02.01_Original Data\\products.csv', index_col = False)\n",
    "df_ords = pd.read_csv(r'C:\\Users\\ihs10539\\Achievement 4 Project\\02_Data\\02.01_Original Data\\orders.csv', index_col = False)"
   ]
  },
  {
   "cell_type": "code",
   "execution_count": 7,
   "id": "093fd7de-9690-4c62-a29b-5a1250bf7b92",
   "metadata": {},
   "outputs": [
    {
     "data": {
      "text/plain": [
       "(3421083, 7)"
      ]
     },
     "execution_count": 7,
     "metadata": {},
     "output_type": "execute_result"
    }
   ],
   "source": [
    "df_ords.shape"
   ]
  },
  {
   "cell_type": "code",
   "execution_count": 9,
   "id": "0d866940-bfe5-4ba8-ba81-353f42ef9e05",
   "metadata": {},
   "outputs": [
    {
     "data": {
      "text/plain": [
       "(49693, 5)"
      ]
     },
     "execution_count": 9,
     "metadata": {},
     "output_type": "execute_result"
    }
   ],
   "source": [
    "df_prod.shape"
   ]
  },
  {
   "cell_type": "code",
   "execution_count": 11,
   "id": "7c8bbcf4-89e7-4e24-b1d8-21c3df68b3a9",
   "metadata": {},
   "outputs": [],
   "source": [
    "df_cust = pd.read_csv(r'C:\\Users\\ihs10539\\Achievement 4 Project\\02_Data\\02.01_Original Data\\customers.csv', index_col = False)\n",
    "df_ord_prod_prior = pd.read_csv(r'C:\\Users\\ihs10539\\Achievement 4 Project\\02_Data\\02.01_Original Data\\orders_products_prior.csv', index_col = False)"
   ]
  },
  {
   "cell_type": "code",
   "execution_count": 13,
   "id": "48fefc83-6062-4682-849b-0506fc82bfc7",
   "metadata": {},
   "outputs": [
    {
     "data": {
      "text/plain": [
       "(206209, 10)"
      ]
     },
     "execution_count": 13,
     "metadata": {},
     "output_type": "execute_result"
    }
   ],
   "source": [
    "df_cust.shape"
   ]
  },
  {
   "cell_type": "code",
   "execution_count": 15,
   "id": "a654101b-83a7-4835-a24b-f8b3a91f4848",
   "metadata": {},
   "outputs": [
    {
     "data": {
      "text/plain": [
       "(32434489, 4)"
      ]
     },
     "execution_count": 15,
     "metadata": {},
     "output_type": "execute_result"
    }
   ],
   "source": [
    "df_ord_prod_prior.shape"
   ]
  },
  {
   "cell_type": "code",
   "execution_count": null,
   "id": "360adbe8-e26d-461d-9795-ab7c4ace04f3",
   "metadata": {},
   "outputs": [],
   "source": []
  }
 ],
 "metadata": {
  "kernelspec": {
   "display_name": "Python [conda env:base] *",
   "language": "python",
   "name": "conda-base-py"
  },
  "language_info": {
   "codemirror_mode": {
    "name": "ipython",
    "version": 3
   },
   "file_extension": ".py",
   "mimetype": "text/x-python",
   "name": "python",
   "nbconvert_exporter": "python",
   "pygments_lexer": "ipython3",
   "version": "3.12.7"
  }
 },
 "nbformat": 4,
 "nbformat_minor": 5
}
