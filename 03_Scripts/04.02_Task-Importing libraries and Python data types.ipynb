{
 "cells": [
  {
   "cell_type": "markdown",
   "id": "6296f9a2-659e-4f7c-9c97-d6c22a560351",
   "metadata": {},
   "source": [
    "# 4.2_Task-Importing libraries and Python data types\n",
    "\n",
    "## Contents\n",
    "### Importing Libraries\n",
    "### Working with Python Data Types"
   ]
  },
  {
   "cell_type": "markdown",
   "id": "de9883fe-73e9-4a0a-905c-fd5c5a8e0014",
   "metadata": {},
   "source": [
    "# Importing Libraries"
   ]
  },
  {
   "cell_type": "code",
   "execution_count": 68,
   "id": "14877f6a-e172-47af-ad39-4bd7f885ac58",
   "metadata": {},
   "outputs": [],
   "source": [
    "import pandas as pd\n",
    "import numpy as np\n",
    "import os"
   ]
  },
  {
   "cell_type": "markdown",
   "id": "dcf6cced-303e-4cdc-b2cf-07c14b108db0",
   "metadata": {},
   "source": [
    "# Working with Python Data Types"
   ]
  },
  {
   "cell_type": "code",
   "execution_count": 97,
   "id": "379a165c-4b53-4767-8da5-8f35d3a0a387",
   "metadata": {},
   "outputs": [
    {
     "name": "stdout",
     "output_type": "stream",
     "text": [
      "100\n"
     ]
    }
   ],
   "source": [
    "# 3 Different ways to 100-pt1\n",
    "a = 5\n",
    "b = 40\n",
    "c = 20\n",
    "d = 10\n",
    "e = 90\n",
    "f = 40\n",
    "g = 45\n",
    "h = a + b - c - d + e + f - g \n",
    "print(h)"
   ]
  },
  {
   "cell_type": "code",
   "execution_count": 93,
   "id": "928f8b7a-b511-441d-bd2d-b17797b8439c",
   "metadata": {},
   "outputs": [
    {
     "name": "stdout",
     "output_type": "stream",
     "text": [
      "100\n"
     ]
    }
   ],
   "source": [
    "# 3 Different ways to 100-pt2\n",
    "a = 300\n",
    "b = 225\n",
    "c = 35\n",
    "d = 60\n",
    "e = a - b - c + d\n",
    "print(e)"
   ]
  },
  {
   "cell_type": "code",
   "execution_count": 91,
   "id": "8c4af917-c2ce-4fc9-af16-e33cfd85df4c",
   "metadata": {},
   "outputs": [
    {
     "name": "stdout",
     "output_type": "stream",
     "text": [
      "100\n"
     ]
    }
   ],
   "source": [
    "# 3 Different ways to 100-pt3\n",
    "a = 30\n",
    "b = 45\n",
    "c = 25\n",
    "d = a + b + c\n",
    "print(d)"
   ]
  },
  {
   "cell_type": "code",
   "execution_count": 89,
   "id": "cff59bb8-a40b-4099-864f-b904ada3172a",
   "metadata": {},
   "outputs": [
    {
     "name": "stdout",
     "output_type": "stream",
     "text": [
      "2.0\n"
     ]
    }
   ],
   "source": [
    "# 2 floating-point variables and divide them\n",
    "a = 22.22\n",
    "b = 11.11\n",
    "c = a / b\n",
    "print(c)"
   ]
  },
  {
   "cell_type": "code",
   "execution_count": 74,
   "id": "1835d3e4-c274-4977-a7ba-048ccbfe343c",
   "metadata": {},
   "outputs": [
    {
     "name": "stdout",
     "output_type": "stream",
     "text": [
      "townhouse\n"
     ]
    }
   ],
   "source": [
    "# Construct a short word\n",
    "x = 'town'\n",
    "y = 'house'\n",
    "z = x + y\n",
    "print (z)"
   ]
  },
  {
   "cell_type": "code",
   "execution_count": 83,
   "id": "6cb464bf-6a5b-4271-988b-70fafaa455f3",
   "metadata": {},
   "outputs": [
    {
     "name": "stdout",
     "output_type": "stream",
     "text": [
      "I miss my pup Finn.\n"
     ]
    }
   ],
   "source": [
    "# short sentence 1\n",
    "a = \"I\"\n",
    "b = \"miss\"\n",
    "c = \"my\"\n",
    "d = \"pup\"\n",
    "e = \"Finn.\"\n",
    "\n",
    "z = a + \" \" + b + \" \" + c + \" \" + d + \" \" + e\n",
    "print(z)"
   ]
  },
  {
   "cell_type": "code",
   "execution_count": 87,
   "id": "0d54a233-e1de-4ab3-ba35-06d158e3dceb",
   "metadata": {},
   "outputs": [
    {
     "name": "stdout",
     "output_type": "stream",
     "text": [
      "Can't wait to break into data analytics\n"
     ]
    }
   ],
   "source": [
    "# short sentence 2\n",
    "a = \"Can't\"\n",
    "b = \"wait\"\n",
    "c = \"to\"\n",
    "d = \"break\"\n",
    "e = \"into\"\n",
    "f = \"data\"\n",
    "g = \"analytics\"\n",
    "\n",
    "z = a + \" \" + b + \" \" + c + \" \" + d + \" \" + e + \" \" + f + \" \" + g\n",
    "print(z)"
   ]
  }
 ],
 "metadata": {
  "kernelspec": {
   "display_name": "Python [conda env:base] *",
   "language": "python",
   "name": "conda-base-py"
  },
  "language_info": {
   "codemirror_mode": {
    "name": "ipython",
    "version": 3
   },
   "file_extension": ".py",
   "mimetype": "text/x-python",
   "name": "python",
   "nbconvert_exporter": "python",
   "pygments_lexer": "ipython3",
   "version": "3.12.7"
  }
 },
 "nbformat": 4,
 "nbformat_minor": 5
}
