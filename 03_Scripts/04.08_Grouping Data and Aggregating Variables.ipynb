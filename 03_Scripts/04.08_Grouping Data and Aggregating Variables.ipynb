{
 "cells": [
  {
   "cell_type": "markdown",
   "id": "36e4d214-db5d-4c8c-9e5d-e85d28581707",
   "metadata": {},
   "source": [
    "# 4.8_Grouping Data and Aggregating Variables\n",
    "\n",
    "## Contents\n",
    "### Importing Libraries\n",
    "### Importing Data\n",
    "### Path to Storage\n",
    "### Grouping Data with Pandas\n",
    "### Aggregating Data with agg()\n",
    "### Aggregating Data with transform()\n",
    "### Deriving Columns with loc()\n",
    "### Export Data"
   ]
  },
  {
   "cell_type": "markdown",
   "id": "2e64b898",
   "metadata": {},
   "source": [
    "### Importing Libraries"
   ]
  },
  {
   "cell_type": "code",
   "execution_count": null,
   "id": "9262934f",
   "metadata": {},
   "outputs": [],
   "source": [
    "# Import libraries\n",
    "import pandas as pd\n",
    "import numpy as np\n",
    "import dask.dataframe as dd\n",
    "import os"
   ]
  },
  {
   "cell_type": "markdown",
   "id": "f274a03e-cae2-4e40-9c8e-bc07d681faaf",
   "metadata": {},
   "source": [
    "### Path to Storage"
   ]
  },
  {
   "cell_type": "code",
   "execution_count": null,
   "id": "95ab2464-625b-4e90-9dd8-1280db656dea",
   "metadata": {},
   "outputs": [],
   "source": [
    "# Path to storage location\n",
    "path = r'C:\\Users\\ihs10539\\Achievement 4 Project'"
   ]
  },
  {
   "cell_type": "markdown",
   "id": "7b0237e7",
   "metadata": {},
   "source": [
    "### Importing Data"
   ]
  },
  {
   "cell_type": "code",
   "execution_count": null,
   "id": "329de9fe",
   "metadata": {},
   "outputs": [],
   "source": [
    "df_ords_prods_merge = pd.read_pickle(os.path.join(path, '02_Data', '02.02_Prepared Data', '4.7_Task_df_ords_prods_merged_derived.pkl'))"
   ]
  },
  {
   "cell_type": "code",
   "execution_count": null,
   "id": "e7d4762d",
   "metadata": {},
   "outputs": [],
   "source": [
    "# Subset\n",
    "df_ords_prods_merge_subset = df_ords_prods_merge[:1000000]"
   ]
  },
  {
   "cell_type": "code",
   "execution_count": null,
   "id": "810a6595-802b-4f9b-bb4c-e835d49c3bcc",
   "metadata": {},
   "outputs": [],
   "source": [
    "# Verify Subset\n",
    "df_ords_prods_merge_subset.shape"
   ]
  },
  {
   "cell_type": "code",
   "execution_count": null,
   "id": "9412bbb5-0e78-472f-bccf-2398897c6d6c",
   "metadata": {},
   "outputs": [],
   "source": [
    "df_ords_prods_merge_subset.head(10)"
   ]
  },
  {
   "cell_type": "markdown",
   "id": "66077630-4de1-44ec-9a27-65b24bb3c4b2",
   "metadata": {},
   "source": [
    "## Grouping Data with Pandas"
   ]
  },
  {
   "cell_type": "code",
   "execution_count": null,
   "id": "0aa3caab-cb45-44aa-9e72-6854d4757d58",
   "metadata": {},
   "outputs": [],
   "source": [
    "# Grouping data in pandas follows a set of logical steps\n",
    "# First, split the data into groups based on given criteria\n",
    "# Next, apply a function to these groups\n",
    "# Lastly, combine the results to see what was created"
   ]
  },
  {
   "cell_type": "code",
   "execution_count": null,
   "id": "f0b265ad-c897-471c-986f-789b77134790",
   "metadata": {},
   "outputs": [],
   "source": [
    "# The 'groupby()' function will group a given dataframe by a given column\n",
    "df_ords_prods_merge_subset.groupby('product_name')"
   ]
  },
  {
   "cell_type": "code",
   "execution_count": null,
   "id": "30d4216c-2bc5-4046-9e41-f5467a05fd34",
   "metadata": {},
   "outputs": [],
   "source": [
    "# The function created a pandas object\n",
    "# However, the output is not visible yet\n",
    "# Something else needs to be done, like aggregating the data or applying a function, before seeing the results\n",
    "# groupby() should always be used as part of a series of steps"
   ]
  },
  {
   "cell_type": "code",
   "execution_count": null,
   "id": "9aa6b33a-a16d-4043-844d-e0e7de1539d9",
   "metadata": {},
   "outputs": [],
   "source": [
    "# So far we've split the data into groups using the 'product_name' column\n",
    "# The next step will involve some aggregation"
   ]
  },
  {
   "cell_type": "markdown",
   "id": "769552df-643b-4b0b-85a0-c94f5efc4ae6",
   "metadata": {},
   "source": [
    "## Aggregating Data with agg()"
   ]
  },
  {
   "cell_type": "code",
   "execution_count": null,
   "id": "a6f9e9a6-4840-4b6f-ad6b-eca2417ba853",
   "metadata": {},
   "outputs": [],
   "source": [
    "# Aggregating functions create summaries of selected columns and store these summary values in new columns\n",
    "# These summaries usually take the form of a descriptive statistic"
   ]
  },
  {
   "cell_type": "code",
   "execution_count": null,
   "id": "4303077f-7bea-4168-b9d5-4d90d741d6f3",
   "metadata": {},
   "outputs": [],
   "source": [
    "# The 'agg()' function is used for aggregation\n",
    "# We can use this function to produce a single descriptive statistic for the 'order_number' column\n",
    "# If you were to calculate the mean of the 'order_number' column grouped by the 'department_id' column, you can compare user orders in each department\n",
    "# 'order_number' refers to the number of orders placed by a given user\n",
    "# The process is as follows:\n",
    "# 1. Split the data into groups based on 'department_id'\n",
    "# 2. Apply the agg() function to each group to obtain the mean values for the 'order_number' column\n",
    "df_ords_prods_merge_subset.groupby('department_id').agg({'order_number': ['mean']})"
   ]
  },
  {
   "cell_type": "code",
   "execution_count": null,
   "id": "0182125d",
   "metadata": {},
   "outputs": [],
   "source": [
    "# The groupby() function is assigned to the df dataframe, creating a pandas object for the 'department_id'\n",
    "# The agg() function is applied to this object, returning the mean of the given column 'order_id'\n",
    "# The result is the average number of orders per user for each department id\n",
    "# Despite the results, it's important to conduct statistical tests to check for a significant difference between the means of the different grouos\n",
    "# One such test is the 't-test'."
   ]
  },
  {
   "cell_type": "code",
   "execution_count": null,
   "id": "b2085403",
   "metadata": {},
   "outputs": [],
   "source": [
    "# There are some aggregations that can be conducted without the use of the agg() function\n",
    "df_ords_prods_merge_subset.groupby('department_id')['order_number'].mean()"
   ]
  },
  {
   "cell_type": "code",
   "execution_count": null,
   "id": "26499a84",
   "metadata": {},
   "outputs": [],
   "source": [
    "# The difference in syntex between the two methods:\n",
    "# 1. When using agg(), put the column you want to aggregate inside the parenthesis of the agg()\n",
    "# 2. When using mean(), simply index the column with square brackets, then follow it with the function you want to use after the dot"
   ]
  },
  {
   "cell_type": "code",
   "execution_count": null,
   "id": "4652052d",
   "metadata": {},
   "outputs": [],
   "source": [
    "# Dot notation vs. square brackets\n",
    "# df.groupby('department_id').order_number.mean()\n",
    "# Using dot notation results in the same output , however, there are reasons you shouldn't\n",
    "# 1. Square brackets stand out and are more readable \n",
    "# 2. Square brackets have no other role in Python beyond indexing, so using dot notation can make it slower since it has to work harder to understand"
   ]
  },
  {
   "cell_type": "code",
   "execution_count": null,
   "id": "627db484",
   "metadata": {},
   "outputs": [],
   "source": [
    "# You can perform multiple aggregations at once\n",
    "df_ords_prods_merge_subset.groupby('department_id').agg({'order_number': ['mean', 'min', 'max']})"
   ]
  },
  {
   "cell_type": "markdown",
   "id": "2e370057-889d-40f1-bac7-f7e08d8ee3af",
   "metadata": {},
   "source": [
    "## Aggregating Data with transform()"
   ]
  },
  {
   "cell_type": "code",
   "execution_count": null,
   "id": "799b98e2",
   "metadata": {},
   "outputs": [],
   "source": [
    "# We'll be creating 'loyalty' flags if our dataframe\n",
    "# 'Loyalty' customers are those who come back time and time again to use the service or buy products\n",
    "# We've been tastked to locate these customers so that the business strategy team can employ some kind of bonus point program for them\n",
    "# This can be achieved with the 'transform()' function, which will create a new column containing the maximum frequency of the 'order_number' column\n",
    "# Then, using the loc() function, a second column will be created containing a flag designating whether a customer is 'loyal' or not"
   ]
  },
  {
   "cell_type": "code",
   "execution_count": null,
   "id": "d0f8188a",
   "metadata": {},
   "outputs": [],
   "source": [
    "# To create the flag, we'll need some criteria:\n",
    "# 1. If the maximum orders the user has made is over 40, then the customer will be labeled a 'Loyal customer'\n",
    "# 2. If the maximum orders the user has made is over 10 but less than or equal to 40, then the customer will be labeled a 'Regular customer'\n",
    "# 3. If the maximum orders the user has made is less than or equal to 10, then the customer will be labeled a 'New customer'"
   ]
  },
  {
   "cell_type": "code",
   "execution_count": null,
   "id": "66984c85",
   "metadata": {},
   "outputs": [],
   "source": [
    "# Here's the steps to accomplish this\n",
    "# 1. Split the data in groups based on the 'user_id' column\n",
    "# 2. Apply the trasnform() function on the 'order_number' column to generate the maximum orders for each user\n",
    "# 3. Create a new column, 'max_order,' into which you'll place the results of your aggregation\n",
    "# Once this process is complete we can use the 'max_order' column to create a new column that assigns a loyalty flag to each customer using loc()\n",
    "df_ords_prods_merge['max_order'] = df_ords_prods_merge.groupby(['user_id'])['order_number'].transform('max')"
   ]
  },
  {
   "cell_type": "code",
   "execution_count": null,
   "id": "928453eb",
   "metadata": {},
   "outputs": [],
   "source": [
    "df_ords_prods_merge.head(15)"
   ]
  },
  {
   "cell_type": "code",
   "execution_count": null,
   "id": "ca038de9",
   "metadata": {},
   "outputs": [],
   "source": [
    "# Now we have a new 'max_order' column in our dataframe\n",
    "# Each value in this column corresponds to the maximum number of orders made by each user id"
   ]
  },
  {
   "cell_type": "code",
   "execution_count": null,
   "id": "0d98e8bf",
   "metadata": {},
   "outputs": [],
   "source": [
    "# You can check the output by printing the head of the dataframe with an argument of, say 100\n",
    "df_ords_prods_merge.head(100)"
   ]
  },
  {
   "cell_type": "code",
   "execution_count": null,
   "id": "bc3fb625",
   "metadata": {},
   "outputs": [],
   "source": [
    "# However, the current settings won't allow you to see all 100\n",
    "# This can be changed via the following code:\n",
    "pd.options.display.max_rows = None"
   ]
  },
  {
   "cell_type": "code",
   "execution_count": null,
   "id": "d591da6b",
   "metadata": {},
   "outputs": [],
   "source": [
    "# Now, all 100 rows we called for can be viewed"
   ]
  },
  {
   "cell_type": "markdown",
   "id": "e1154b49",
   "metadata": {},
   "source": [
    "## Deriving Columns with loc()"
   ]
  },
  {
   "cell_type": "code",
   "execution_count": null,
   "id": "c629802a",
   "metadata": {},
   "outputs": [],
   "source": [
    "# Now that the new column is created, we must flag customers who meet the criteria as 'loyal'\n",
    "df_ords_prods_merge.loc[df_ords_prods_merge['max_order'] > 40, 'loyalty_flag'] = 'Loyal customer'"
   ]
  },
  {
   "cell_type": "code",
   "execution_count": null,
   "id": "3c7bd437",
   "metadata": {},
   "outputs": [],
   "source": [
    "df_ords_prods_merge.loc[(df_ords_prods_merge['max_order'] <= 40) & (df_ords_prods_merge['max_order'] >10), 'loyalty_flag'] = 'Regular customer'"
   ]
  },
  {
   "cell_type": "code",
   "execution_count": null,
   "id": "19b0ff0f",
   "metadata": {},
   "outputs": [],
   "source": [
    "df_ords_prods_merge.loc[df_ords_prods_merge['max_order'] <= 10, 'loyalty_flag'] = 'New customer'"
   ]
  },
  {
   "cell_type": "code",
   "execution_count": null,
   "id": "51209d7d",
   "metadata": {},
   "outputs": [],
   "source": [
    "# Check value counts for new column\n",
    "df_ords_prods_merge['loyalty_flag'].value_counts(dropna = False)"
   ]
  },
  {
   "cell_type": "code",
   "execution_count": null,
   "id": "b83b8876",
   "metadata": {},
   "outputs": [],
   "source": [
    "# Most customers fall into the 'Regular customer' category "
   ]
  },
  {
   "cell_type": "code",
   "execution_count": null,
   "id": "0918b603",
   "metadata": {},
   "outputs": [],
   "source": [
    "# As always, check that everything was interpreted correctly and that the right flags were assigned \n",
    "df_ords_prods_merge[['user_id', 'loyalty_flag', 'order_number']].head(60)"
   ]
  },
  {
   "cell_type": "markdown",
   "id": "e3e995b4-c1f7-48c2-a2ae-a4a81e805944",
   "metadata": {},
   "source": [
    "## Export Data"
   ]
  },
  {
   "cell_type": "code",
   "execution_count": null,
   "id": "e3446cb1-c3d8-4ba4-9cbf-e7e65e87843b",
   "metadata": {},
   "outputs": [],
   "source": [
    "# Export dataframe with newly derived columns"
   ]
  },
  {
   "cell_type": "code",
   "execution_count": null,
   "id": "3e0fcc1f-d4fa-4c00-9705-03db35100dc0",
   "metadata": {},
   "outputs": [],
   "source": [
    "df_ords_prods_merge.to_pickle(os.path.join(path, '02_Data', '02.02_Prepared Data', '4.8_Task_df_ords_prods_merged_derived_GDAV.pkl'))"
   ]
  },
  {
   "cell_type": "code",
   "execution_count": null,
   "id": "84ccf701-f3ba-4f69-9916-ef533261918d",
   "metadata": {},
   "outputs": [],
   "source": [
    "df_ords_prods_merge.shape"
   ]
  }
 ],
 "metadata": {
  "kernelspec": {
   "display_name": "Python [conda env:base] *",
   "language": "python",
   "name": "conda-base-py"
  },
  "language_info": {
   "codemirror_mode": {
    "name": "ipython",
    "version": 3
   },
   "file_extension": ".py",
   "mimetype": "text/x-python",
   "name": "python",
   "nbconvert_exporter": "python",
   "pygments_lexer": "ipython3",
   "version": "3.12.7"
  },
  "toc": {
   "base_numbering": 1,
   "nav_menu": {},
   "number_sections": true,
   "sideBar": true,
   "skip_h1_title": false,
   "title_cell": "Table of Contents",
   "title_sidebar": "Contents",
   "toc_cell": false,
   "toc_position": {},
   "toc_section_display": true,
   "toc_window_display": false
  }
 },
 "nbformat": 4,
 "nbformat_minor": 5
}
